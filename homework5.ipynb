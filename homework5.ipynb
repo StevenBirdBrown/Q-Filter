{
 "cells": [
  {
   "cell_type": "markdown",
   "metadata": {},
   "source": [
    "#  Homework 5 - Berkeley STAT 157\n",
    "\n",
    "**Your name: Luyu Chen, SID 3034306110\n",
    "\n",
    "**Please submit your homework through [gradescope](http://gradescope.com/) instead of Github, so you will get the score distribution for each question. Please enroll in the [class](https://www.gradescope.com/courses/42432) by the Entry code: MXG5G5** \n"
   ]
  },
  {
   "cell_type": "code",
   "execution_count": 1,
   "metadata": {
    "ExecuteTime": {
     "end_time": "2019-02-12T19:52:59.411749Z",
     "start_time": "2019-02-12T19:52:28.081528Z"
    },
    "attributes": {
     "classes": [],
     "id": "",
     "n": "3"
    },
    "scrolled": true
   },
   "outputs": [],
   "source": [
    "%matplotlib inline\n",
    "from mxnet import autograd, gluon, init, nd\n",
    "from mxnet.gluon import data as gdata, loss as gloss, nn, utils\n",
    "import numpy as np\n",
    "\n",
    "mnist_train = gdata.vision.FashionMNIST(train=True,transform=lambda data, label: (data.astype(np.float32), label))\n",
    "mnist_test = gdata.vision.FashionMNIST(train=False,transform=lambda data, label: (data.astype(np.float32), label))"
   ]
  },
  {
   "cell_type": "markdown",
   "metadata": {},
   "source": [
    "## 1. Logistic Regression\n",
    "\n",
    "1. Implement the logistic loss function $l(y,f) = -\\log(1 + \\exp(-y f))$ in Gluon.\n",
    "2. Plot its values and its derivative for $y = 1$ and $f \\in [-5, 5]$, using automatic differentiation in Gluon.\n",
    "3. Generate training and test datasets for a binary classification problem using Fashion-MNIST with class $1$ being a combination of `shirt` and `sweater` and class $-1$ being the combination of `sandal` and `sneaker` categories. \n",
    "4. Train a binary classifier of your choice (it can be linear or a simple MLP such as from a previous lecture) using half the data (i.e. $12,000$ observations mixed as abvove) and one using the full dataset (i.e. $24,000$ observations as arising from the 4 categories) and report its accuracy. \n",
    "\n",
    "Hint - you should encapsulate the training and reporting code in a callable function since you'll need it quite a bit in the following. "
   ]
  },
  {
   "cell_type": "code",
   "execution_count": 11,
   "metadata": {},
   "outputs": [],
   "source": [
    "# problem 1\n",
    "def loss(y,o):\n",
    "    ## add your loss function here\n",
    "    l = - nd.log(1 + nd.exp(- nd.dot(y, o)))\n",
    "    return l"
   ]
  },
  {
   "cell_type": "code",
   "execution_count": 12,
   "metadata": {},
   "outputs": [],
   "source": [
    "#Problem 2\n",
    "import matplotlib.pyplot as plt\n",
    "o = nd.arange(-5, 5, 0.01).reshape((1,1000))\n",
    "y = nd.array([1])\n",
    "l = loss(y, o)"
   ]
  },
  {
   "cell_type": "code",
   "execution_count": 13,
   "metadata": {},
   "outputs": [
    {
     "data": {
      "image/png": "[encoded data removed]",
      "text/plain": [
       "<Figure size 432x288 with 1 Axes>"
      ]
     },
     "metadata": {
      "needs_background": "light"
     },
     "output_type": "display_data"
    }
   ],
   "source": [
    "onp = o.asnumpy()[0]\n",
    "plt.plot(onp,l.asnumpy(), label = 'class of y = 1')\n",
    "plt.xlabel('x')\n",
    "plt.ylabel('logistic loss function')\n",
    "plt.legend(loc = 'best')\n",
    "plt.show()"
   ]
  },
  {
   "cell_type": "code",
   "execution_count": 14,
   "metadata": {},
   "outputs": [
    {
     "data": {
      "image/png": "[encoded data removed]",
      "text/plain": [
       "<Figure size 432x288 with 1 Axes>"
      ]
     },
     "metadata": {
      "needs_background": "light"
     },
     "output_type": "display_data"
    }
   ],
   "source": [
    "#Plot grad\n",
    "o.attach_grad()\n",
    "with autograd.record():\n",
    "    func = loss(y,o)\n",
    "func.backward()\n",
    "plt.plot(onp,o.grad.asnumpy().reshape(1000,),label = 'grad')\n",
    "plt.xlabel('x')\n",
    "plt.ylabel('grad of logistic loss function')\n",
    "plt.legend(loc = 'best')\n",
    "plt.show()"
   ]
  },
  {
   "cell_type": "markdown",
   "metadata": {},
   "source": [
    "### Train dataset and Test dataset"
   ]
  },
  {
   "cell_type": "code",
   "execution_count": 60,
   "metadata": {},
   "outputs": [],
   "source": [
    "def dataset(mnist_train, mnist_test,bias, total):\n",
    "    '''\n",
    "    biased ratio is for problem 3\n",
    "    total would be the total sample for each class.\n",
    "    '''\n",
    "    \n",
    "    X, y = mnist_train[:]\n",
    "    coat =  np.where(y == 4)[0].tolist()\n",
    "    shirt = np.where(y == 6)[0].tolist()\n",
    "    sandal = np.where(y == 5)[0].tolist()\n",
    "    sneaker = np.where(y == 7)[0].tolist()\n",
    "    \n",
    "    class1_portion = round(bias * total)\n",
    "    class2_portion = round((1 - bias) * total)\n",
    "    \n",
    "    #for train dataset\n",
    "    #index_coat = random.sample(coat, class1_portion)\n",
    "    #index_shirt = random.sample(shirt, class1_portion)\n",
    "    #index_sandal = random.sample(sandal, class2_portion)\n",
    "    #index_sneaker = random.sample(sneaker, class2_portion)\n",
    "    \n",
    "    index_coat = coat[0:class1_portion]\n",
    "    index_shirt = shirt[0:class1_portion]\n",
    "    index_sandal = sandal[0:class2_portion]\n",
    "    index_sneaker = sneaker[0:class2_portion]\n",
    "    \n",
    "    train_coat = X[index_coat]\n",
    "    train_shirt = X[index_shirt]\n",
    "    train_sandal = X[index_sandal]\n",
    "    train_sneaker = X[index_sneaker]\n",
    "     \n",
    "    train_feature = nd.concat(train_coat,train_shirt, train_sandal, train_sneaker, dim=0)\n",
    "    label1 = nd.ones((1, total)).astype(np.float32)\n",
    "    label2 = nd.zeros((1, total)).astype(np.float32)\n",
    "    \n",
    "    train_labels = nd.concat(label1, label2, dim=1).reshape(shape=(-1,))\n",
    "    train_data = gdata.dataset.ArrayDataset(train_feature, train_labels)\n",
    "    \n",
    "    #for test dataset    \n",
    "    A, b = mnist_test[:]\n",
    "    indices_1 = np.where(np.logical_or(b == 4, b == 6))[0].tolist() #coat and shirt\n",
    "    indices_2 = np.where(np.logical_or(b == 5, b == 7))[0].tolist() #sandal and sneaker\n",
    "\n",
    "    class1 = A[indices_1] #class1\n",
    "    class0 = A[indices_2] #class-1\n",
    "    test_feature = nd.concat(class1, class0,dim = 0)\n",
    "    label1 = nd.ones((1, 2000)).astype(np.float32)\n",
    "    label0 = nd.zeros((1,2000)).astype(np.float32)\n",
    "    test_label = nd.concat(label1,label0,dim = 1).reshape(shape=(-1,))\n",
    "    test_data = gdata.dataset.ArrayDataset(test_feature, test_label)    \n",
    "    return train_data, test_data"
   ]
  },
  {
   "cell_type": "markdown",
   "metadata": {},
   "source": [
    "### Train all samples"
   ]
  },
  {
   "cell_type": "code",
   "execution_count": 61,
   "metadata": {},
   "outputs": [],
   "source": [
    "import d2l,random\n",
    "train_all, test_all = dataset(mnist_train, mnist_test,0.5, 12000)"
   ]
  },
  {
   "cell_type": "code",
   "execution_count": 62,
   "metadata": {},
   "outputs": [],
   "source": [
    "def model(train, test, batch_size, lr, num_epochs):\n",
    "    train_iter = gdata.DataLoader(train, batch_size,shuffle = True)\n",
    "    test_iter = gdata.DataLoader(test, batch_size,shuffle = True)\n",
    "\n",
    "    net = nn.Sequential()\n",
    "    net.add(nn.Dense(2))\n",
    "    net.initialize(init.Normal(sigma=0.01))\n",
    "\n",
    "    loss = gluon.loss.SoftmaxCrossEntropyLoss()\n",
    "    trainer = gluon.Trainer(net.collect_params(), 'sgd', {'learning_rate': lr})\n",
    "    d2l.train_ch3(net, train_iter, test_iter, loss, num_epochs, batch_size, None, None, trainer)"
   ]
  },
  {
   "cell_type": "code",
   "execution_count": 64,
   "metadata": {},
   "outputs": [
    {
     "name": "stdout",
     "output_type": "stream",
     "text": [
      "epoch 1, loss 1600.7892, train acc 0.985, test acc 0.997\n",
      "epoch 2, loss 29.9104, train acc 0.998, test acc 0.999\n",
      "epoch 3, loss 22.9545, train acc 0.998, test acc 0.999\n",
      "epoch 4, loss 19.6463, train acc 0.999, test acc 0.999\n",
      "epoch 5, loss 16.3328, train acc 0.999, test acc 0.999\n"
     ]
    }
   ],
   "source": [
    "model(train_all, test_all, 256, 0.1, 5)"
   ]
  },
  {
   "cell_type": "markdown",
   "metadata": {},
   "source": [
    "### Train half sample"
   ]
  },
  {
   "cell_type": "code",
   "execution_count": 65,
   "metadata": {},
   "outputs": [],
   "source": [
    "train_half, test_half = dataset(mnist_train, mnist_test,0.5, 6000)"
   ]
  },
  {
   "cell_type": "code",
   "execution_count": 66,
   "metadata": {},
   "outputs": [
    {
     "name": "stdout",
     "output_type": "stream",
     "text": [
      "epoch 1, loss 657.3146, train acc 0.966, test acc 0.993\n",
      "epoch 2, loss 108.0598, train acc 0.996, test acc 0.995\n",
      "epoch 3, loss 60.3451, train acc 0.998, test acc 0.997\n",
      "epoch 4, loss 46.4209, train acc 0.998, test acc 0.998\n",
      "epoch 5, loss 37.1828, train acc 0.998, test acc 0.999\n"
     ]
    }
   ],
   "source": [
    "model(train_half, test_half, 256, 0.1, 5)"
   ]
  },
  {
   "cell_type": "markdown",
   "metadata": {},
   "source": [
    "## 2. Covariate Shift\n",
    "\n",
    "Your goal is to introduce covariate shit in the data and observe the accuracy. For this, compose a dataset of $12,000$ observations, given by a mixture of `shirt` and `sweater` and of `sandal` and `sneaker` respectively, where you use a fraction $\\lambda \\in \\{0.05, 0.1, 0.2, \\ldots 0.8, 0.9, 0.95\\}$ of one and a fraction of $1-\\lambda$ of  the other datasets respectively. For instance, you might pick for $\\lambda = 0.1$ a total of $600$ `shirt` and $600$ `sweater` images and likewise $5,400$ `sandal` and $5,400$ `sneaker` photos, yielding a total of $12,000$ images for training. Note that the test set remains unbiased, composed of $2,000$ photos for the `shirt` + `sweater` category and of the `sandal` + `sneaker` category each.\n",
    "\n",
    "1. Generate training sets that are appropriately biased. You should have 11 datasets.\n",
    "2. Train a binary classifier using this and report the test set accuracy on the unbiased test set. "
   ]
  },
  {
   "cell_type": "code",
   "execution_count": 67,
   "metadata": {},
   "outputs": [],
   "source": [
    "lam = [0.05, 0.1, 0.2, 0.3, 0.4, 0.5, 0.6, 0.7, 0.8, 0.9, 0.95]"
   ]
  },
  {
   "cell_type": "code",
   "execution_count": 68,
   "metadata": {},
   "outputs": [
    {
     "name": "stdout",
     "output_type": "stream",
     "text": [
      "Bias is 0.05\n",
      "epoch 1, loss 13746.6903, train acc 0.763, test acc 0.797\n",
      "epoch 2, loss 6300.7187, train acc 0.854, test acc 0.796\n",
      "epoch 3, loss 5795.2292, train acc 0.859, test acc 0.770\n",
      "epoch 4, loss 5044.2806, train acc 0.875, test acc 0.747\n",
      "epoch 5, loss 4329.9004, train acc 0.884, test acc 0.761\n",
      "Bias is 0.10\n",
      "epoch 1, loss 14772.2570, train acc 0.773, test acc 0.816\n",
      "epoch 2, loss 8150.8907, train acc 0.815, test acc 0.799\n",
      "epoch 3, loss 7333.8877, train acc 0.830, test acc 0.833\n",
      "epoch 4, loss 6591.5090, train acc 0.840, test acc 0.939\n",
      "epoch 5, loss 7271.4670, train acc 0.845, test acc 0.763\n",
      "Bias is 0.20\n",
      "epoch 1, loss 14084.8478, train acc 0.749, test acc 0.979\n",
      "epoch 2, loss 8517.7672, train acc 0.793, test acc 0.787\n",
      "epoch 3, loss 7954.2751, train acc 0.798, test acc 0.829\n",
      "epoch 4, loss 7248.9983, train acc 0.801, test acc 0.796\n",
      "epoch 5, loss 7526.5245, train acc 0.802, test acc 0.985\n",
      "Bias is 0.30\n",
      "epoch 1, loss 12895.3116, train acc 0.769, test acc 0.719\n",
      "epoch 2, loss 7464.9982, train acc 0.796, test acc 0.902\n",
      "epoch 3, loss 6580.4470, train acc 0.806, test acc 0.906\n",
      "epoch 4, loss 6543.0471, train acc 0.809, test acc 0.957\n",
      "epoch 5, loss 6213.5429, train acc 0.809, test acc 0.861\n",
      "Bias is 0.40\n",
      "epoch 1, loss 6821.2959, train acc 0.835, test acc 0.886\n",
      "epoch 2, loss 3744.4527, train acc 0.855, test acc 0.978\n",
      "epoch 3, loss 3698.2450, train acc 0.857, test acc 0.997\n",
      "epoch 4, loss 3187.7375, train acc 0.864, test acc 0.712\n",
      "epoch 5, loss 3784.9320, train acc 0.865, test acc 0.965\n",
      "Bias is 0.50\n",
      "epoch 1, loss 4696.3024, train acc 0.962, test acc 0.994\n",
      "epoch 2, loss 96.7228, train acc 0.997, test acc 0.997\n",
      "epoch 3, loss 62.5891, train acc 0.998, test acc 0.997\n",
      "epoch 4, loss 46.7020, train acc 0.998, test acc 0.997\n",
      "epoch 5, loss 37.3130, train acc 0.998, test acc 0.998\n",
      "Bias is 0.60\n",
      "epoch 1, loss 30996.4528, train acc 0.792, test acc 0.992\n",
      "epoch 2, loss 21594.5601, train acc 0.843, test acc 0.997\n",
      "epoch 3, loss 23100.7871, train acc 0.836, test acc 0.979\n",
      "epoch 4, loss 25577.7368, train acc 0.834, test acc 0.978\n",
      "epoch 5, loss 23101.4583, train acc 0.840, test acc 0.997\n",
      "Bias is 0.70\n",
      "epoch 1, loss 76956.1239, train acc 0.690, test acc 0.992\n",
      "epoch 2, loss 49859.8297, train acc 0.751, test acc 0.828\n",
      "epoch 3, loss 40790.5706, train acc 0.767, test acc 0.724\n",
      "epoch 4, loss 47837.0094, train acc 0.751, test acc 0.746\n",
      "epoch 5, loss 43235.6085, train acc 0.762, test acc 0.908\n",
      "Bias is 0.80\n",
      "epoch 1, loss 109146.0553, train acc 0.618, test acc 0.914\n",
      "epoch 2, loss 65690.5960, train acc 0.705, test acc 0.945\n",
      "epoch 3, loss 62079.8595, train acc 0.712, test acc 0.653\n",
      "epoch 4, loss 54894.8109, train acc 0.729, test acc 0.918\n",
      "epoch 5, loss 57794.2585, train acc 0.716, test acc 0.911\n",
      "Bias is 0.90\n",
      "epoch 1, loss 130238.8879, train acc 0.594, test acc 0.947\n",
      "epoch 2, loss 86029.5782, train acc 0.659, test acc 0.622\n",
      "epoch 3, loss 65359.8429, train acc 0.703, test acc 0.895\n",
      "epoch 4, loss 66310.5442, train acc 0.699, test acc 0.694\n",
      "epoch 5, loss 64420.8219, train acc 0.698, test acc 0.698\n",
      "Bias is 0.95\n",
      "epoch 1, loss 149601.7260, train acc 0.564, test acc 0.773\n",
      "epoch 2, loss 85627.8248, train acc 0.654, test acc 0.630\n",
      "epoch 3, loss 61292.6137, train acc 0.719, test acc 0.671\n",
      "epoch 4, loss 67321.7296, train acc 0.700, test acc 0.639\n",
      "epoch 5, loss 55648.1441, train acc 0.728, test acc 0.864\n"
     ]
    }
   ],
   "source": [
    "for i in lam:\n",
    "    train_shift, test_shift = dataset(mnist_train, mnist_test,i, 6000)\n",
    "    print('Bias is %.2f' %i)\n",
    "    model(train_shift, test_shift, 256, 0.1, 5)"
   ]
  },
  {
   "cell_type": "markdown",
   "metadata": {},
   "source": [
    "## 3. Covariate Shift Correction\n",
    "\n",
    "Having observed that covariate shift can be harmful, let's try fixing it. For this we first need to compute the appropriate propensity scores $\\frac{dp(x)}{dq(x)}$. For this purpose pick a biased dataset, let's say with $\\lambda = 0.1$ and try to fix the covariate shift.\n",
    "\n",
    "1. When training a logistic regression binary classifier to fix covariate shift, we assumed so far that both sets are of equal size. Show that re-weighting data in training and test set appropriately can help address the issue when both datasets have different size. What is the weighting?\n",
    "2. Train a binary classifier (using logistic regression) distinguishing between the biased training set and the unbiased test set. Note - you need to weigh the data. \n",
    "3. Use the scores to compute weights on the training set. Do they match the weight arising from the biasing distribution $\\lambda$? \n",
    "4. Train a binary classifier of the covariate shifted problem using the weights obtained previously and report the accuracy. Note - you will need to modify the training loop slightly such that you can compute the gradient of a weighted sum of losses. \n"
   ]
  },
  {
   "cell_type": "markdown",
   "metadata": {},
   "source": [
    "#### Answer\n",
    "1. If different size, $p(x)$ is the unbiased testing set. $q(x)$ is the biased training set. $\\beta(x)$ here is the weight.  \n",
    "$$\\int p(x)f(x)dx = \\int q(x)f(x)\\beta(x)dx $$ \n",
    "Weighting should be: $$\\beta(x_{class1}) = \\frac{p(x)}{q(x)} = \\frac{\\frac{N_{class=1}}{N_{test}}}{\\frac{N_{class=1}}{N_{trian}}} = \\frac{0.5}{0.1} = 5$$   \n",
    "$$\\beta(x_{class0}) = \\frac{p(x)}{q(x)} = \\frac{\\frac{N_{class=0}}{N_{test}}}{\\frac{N_{class=0}}{N_{trian}}} = \\frac{0.5}{0.9} = \\frac{5}{9}$$"
   ]
  },
  {
   "cell_type": "markdown",
   "metadata": {},
   "source": [
    "2. Give training set label 1 and testing set label 0."
   ]
  },
  {
   "cell_type": "code",
   "execution_count": 15,
   "metadata": {},
   "outputs": [],
   "source": [
    "train_set = train_dataset[1]\n",
    "test_set = test"
   ]
  },
  {
   "cell_type": "code",
   "execution_count": 18,
   "metadata": {},
   "outputs": [],
   "source": [
    "feature_tr,label_tr = train_set[:]"
   ]
  },
  {
   "cell_type": "code",
   "execution_count": 25,
   "metadata": {},
   "outputs": [
    {
     "data": {
      "text/plain": [
       "array([1, 1, 1, ..., 1, 1, 1])"
      ]
     },
     "execution_count": 25,
     "metadata": {},
     "output_type": "execute_result"
    }
   ],
   "source": [
    "label_tr.fill(1)"
   ]
  },
  {
   "cell_type": "code",
   "execution_count": 22,
   "metadata": {},
   "outputs": [],
   "source": [
    "feature_tes, label_tes = test_set[:]\n",
    "label_tes.fill(0)"
   ]
  },
  {
   "cell_type": "code",
   "execution_count": null,
   "metadata": {},
   "outputs": [],
   "source": []
  }
 ],
 "metadata": {
  "kernelspec": {
   "display_name": "Python 3",
   "language": "python",
   "name": "python3"
  },
  "language_info": {
   "codemirror_mode": {
    "name": "ipython",
    "version": 3
   },
   "file_extension": ".py",
   "mimetype": "text/x-python",
   "name": "python",
   "nbconvert_exporter": "python",
   "pygments_lexer": "ipython3",
   "version": "3.7.1"
  }
 },
 "nbformat": 4,
 "nbformat_minor": 2
}
