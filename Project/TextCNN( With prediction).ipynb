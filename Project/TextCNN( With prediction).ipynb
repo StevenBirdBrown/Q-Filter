{
 "cells": [
  {
   "cell_type": "code",
   "execution_count": 1,
   "metadata": {
    "ExecuteTime": {
     "end_time": "2019-04-23T20:04:31.626699Z",
     "start_time": "2019-04-23T20:04:25.690801Z"
    }
   },
   "outputs": [
    {
     "name": "stderr",
     "output_type": "stream",
     "text": [
      "/Users/josephzeng/anaconda3/lib/python3.6/site-packages/h5py/__init__.py:36: FutureWarning: Conversion of the second argument of issubdtype from `float` to `np.floating` is deprecated. In future, it will be treated as `np.float64 == np.dtype(float).type`.\n",
      "  from ._conv import register_converters as _register_converters\n"
     ]
    }
   ],
   "source": [
    "import argparse\n",
    "import time\n",
    "import random\n",
    "import glob\n",
    "import multiprocessing as mp\n",
    "\n",
    "import numpy as np\n",
    "\n",
    "import mxnet as mx\n",
    "from mxnet import gluon, autograd\n",
    "from mxnet.gluon import HybridBlock\n",
    "from mxnet.gluon.data import DataLoader\n",
    "\n",
    "import gluonnlp as nlp\n",
    "\n",
    "\n",
    "import d2l\n",
    "from mxnet import gluon, init, nd\n",
    "from mxnet.contrib import text\n",
    "from mxnet.gluon import data as gdata, loss as gloss, nn\n",
    "\n",
    "import os\n",
    "import csv\n",
    "import multiprocessing as mp\n",
    "from gluonnlp import Vocab, data\n",
    "from mxnet.gluon.data import ArrayDataset, SimpleDataset\n",
    "from nltk import word_tokenize\n",
    "import pandas as pd\n",
    "import re"
   ]
  },
  {
   "cell_type": "code",
   "execution_count": 13,
   "metadata": {
    "ExecuteTime": {
     "end_time": "2019-04-16T03:41:15.155569Z",
     "start_time": "2019-04-16T03:41:15.109915Z"
    }
   },
   "outputs": [],
   "source": [
    "class QuoraDataset(ArrayDataset):\n",
    "    \"\"\"This dataset provides access to Quora insincere data competition\"\"\"\n",
    "\n",
    "    def __init__(self, segment, root_dir=\"../input/\"):\n",
    "        self._root_dir = root_dir\n",
    "        self._segment = segment\n",
    "        self._segments = {\n",
    "            # We may change the file path\n",
    "            'train': '/Applications/files/classes_homework/Berkeley_ieor/STAT157/project/train.csv',\n",
    "            'test': '/Applications/files/classes_homework/Berkeley_ieor/STAT157/project/test.csv'\n",
    "        }\n",
    "\n",
    "        super(QuoraDataset, self).__init__(self._read_data())\n",
    "\n",
    "    def _read_data(self):\n",
    "        file_path = os.path.join(self._root_dir, self._segments[self._segment])\n",
    "        with open(file_path, mode='r', encoding='utf-8', newline='') as f:\n",
    "            reader = csv.reader(f, delimiter=',', quotechar='\"')\n",
    "            # ignore 1st line - which is header\n",
    "            data = [tuple(row) for i, row in enumerate(reader) if i > 0]\n",
    "            for i in range(len(data)):\n",
    "                data[i] = data[i][1:3]\n",
    "                data[i] = list(data[i])\n",
    "                data[i][1] = int(data[i][1])\n",
    "        return data\n",
    "    \n",
    "    \n",
    "    "
   ]
  },
  {
   "cell_type": "code",
   "execution_count": 15,
   "metadata": {
    "ExecuteTime": {
     "end_time": "2019-04-16T03:42:06.473925Z",
     "start_time": "2019-04-16T03:42:00.252894Z"
    }
   },
   "outputs": [],
   "source": [
    "train_dataset = QuoraDataset('train')"
   ]
  },
  {
   "cell_type": "code",
   "execution_count": 23,
   "metadata": {
    "ExecuteTime": {
     "end_time": "2019-04-16T07:02:22.174113Z",
     "start_time": "2019-04-16T07:02:22.064101Z"
    }
   },
   "outputs": [],
   "source": [
    "def preprocess_quora(data, vocab):  \n",
    "    max_l = 200  \n",
    "\n",
    "    def pad(x):\n",
    "        return x[:max_l] if len(x) > max_l else x + [0] * (max_l - len(x))\n",
    "\n",
    "    tokenized_data = d2l.get_tokenized_imdb(data)\n",
    "    features = nd.array([pad(vocab.to_indices(x)) for x in tokenized_data])\n",
    "    labels = nd.array([score for _, score in data])\n",
    "    return features, labels\n",
    "\n",
    "\n"
   ]
  },
  {
   "cell_type": "code",
   "execution_count": 25,
   "metadata": {
    "ExecuteTime": {
     "end_time": "2019-04-16T07:06:01.330789Z",
     "start_time": "2019-04-16T07:04:38.608542Z"
    }
   },
   "outputs": [],
   "source": [
    "batch_size = 64\n",
    "train_data, test_data = nlp.data.train_valid_split(train_dataset,valid_ratio = 0.3)\n",
    "vocab = d2l.get_vocab_imdb(train_data)\n",
    "train_iter = gdata.DataLoader(gdata.ArrayDataset(\n",
    "    *preprocess_quora(train_data, vocab)), batch_size, shuffle=True)\n",
    "test_iter = gdata.DataLoader(gdata.ArrayDataset(\n",
    "    *preprocess_quora(test_data, vocab)), batch_size)\n",
    "\n",
    "\n",
    "\n"
   ]
  },
  {
   "cell_type": "code",
   "execution_count": 30,
   "metadata": {
    "ExecuteTime": {
     "end_time": "2019-04-16T19:41:04.981470Z",
     "start_time": "2019-04-16T19:41:03.828506Z"
    }
   },
   "outputs": [
    {
     "name": "stdout",
     "output_type": "stream",
     "text": [
      "X (64, 200) y (64,)\n"
     ]
    },
    {
     "data": {
      "text/plain": [
       "('#batches:', 14286)"
      ]
     },
     "execution_count": 30,
     "metadata": {},
     "output_type": "execute_result"
    }
   ],
   "source": [
    "for X, y in train_iter:\n",
    "    print('X', X.shape, 'y', y.shape)\n",
    "    break\n",
    "'#batches:', len(train_iter)"
   ]
  },
  {
   "cell_type": "code",
   "execution_count": 26,
   "metadata": {
    "ExecuteTime": {
     "end_time": "2019-04-16T07:12:38.113979Z",
     "start_time": "2019-04-16T07:12:38.024907Z"
    }
   },
   "outputs": [],
   "source": [
    "class TextCNN(nn.Block):\n",
    "    def __init__(self, vocab, embed_size, kernel_sizes, num_channels,\n",
    "                 **kwargs):\n",
    "        super(TextCNN, self).__init__(**kwargs)\n",
    "        self.embedding = nn.Embedding(len(vocab), embed_size)\n",
    "        \n",
    "        self.constant_embedding = nn.Embedding(len(vocab), embed_size)\n",
    "        self.dropout = nn.Dropout(0.5)\n",
    "        self.decoder = nn.Dense(2)\n",
    "       \n",
    "        self.pool = nn.GlobalMaxPool1D()\n",
    "        self.convs = nn.Sequential()  \n",
    "        for c, k in zip(num_channels, kernel_sizes):\n",
    "            self.convs.add(nn.Conv1D(c, k, activation='relu'))\n",
    "    \n",
    "    def forward(self, inputs):\n",
    "        \n",
    "        embeddings = nd.concat(\n",
    "            self.embedding(inputs), self.constant_embedding(inputs), dim=2)\n",
    "        \n",
    "        embeddings = embeddings.transpose((0, 2, 1))\n",
    "        \n",
    "        encoding = nd.concat(*[nd.flatten(\n",
    "            self.pool(conv(embeddings))) for conv in self.convs], dim=1)\n",
    "        \n",
    "        outputs = self.decoder(self.dropout(encoding))\n",
    "        return outputs\n"
   ]
  },
  {
   "cell_type": "code",
   "execution_count": 27,
   "metadata": {
    "ExecuteTime": {
     "end_time": "2019-04-16T07:12:44.082774Z",
     "start_time": "2019-04-16T07:12:43.494212Z"
    }
   },
   "outputs": [],
   "source": [
    "embed_size, kernel_sizes, nums_channels = 100, [3, 4, 5], [100, 100, 100]\n",
    "ctx = d2l.try_all_gpus()\n",
    "net = TextCNN(vocab, embed_size, kernel_sizes, nums_channels)\n",
    "net.initialize(init.Xavier(), ctx=ctx)\n"
   ]
  },
  {
   "cell_type": "markdown",
   "metadata": {
    "ExecuteTime": {
     "end_time": "2019-04-16T03:17:58.649107Z",
     "start_time": "2019-04-16T03:17:58.616543Z"
    }
   },
   "source": []
  },
  {
   "cell_type": "code",
   "execution_count": 28,
   "metadata": {
    "ExecuteTime": {
     "end_time": "2019-04-16T07:13:13.295213Z",
     "start_time": "2019-04-16T07:12:49.023260Z"
    }
   },
   "outputs": [],
   "source": [
    "glove_embedding = text.embedding.create(\n",
    "    'glove', pretrained_file_name='glove.6B.100d.txt', vocabulary=vocab)\n",
    "net.embedding.weight.set_data(glove_embedding.idx_to_vec)\n",
    "net.constant_embedding.weight.set_data(glove_embedding.idx_to_vec)\n",
    "net.constant_embedding.collect_params().setattr('grad_req', 'null')"
   ]
  },
  {
   "cell_type": "markdown",
   "metadata": {},
   "source": [
    "### Train"
   ]
  },
  {
   "cell_type": "code",
   "execution_count": null,
   "metadata": {
    "ExecuteTime": {
     "end_time": "2019-04-16T13:06:04.132146Z",
     "start_time": "2019-04-16T07:13:13.297518Z"
    }
   },
   "outputs": [],
   "source": [
    "lr, num_epochs = 0.001, 5\n",
    "trainer = gluon.Trainer(net.collect_params(), 'adam', {'learning_rate': lr})\n",
    "loss = gloss.SoftmaxCrossEntropyLoss()\n",
    "d2l.train(train_iter, test_iter, net, loss, trainer, ctx, num_epochs)\n",
    "\n"
   ]
  },
  {
   "cell_type": "markdown",
   "metadata": {},
   "source": [
    "### Predict"
   ]
  },
  {
   "cell_type": "code",
   "execution_count": 3,
   "metadata": {
    "ExecuteTime": {
     "end_time": "2019-04-23T20:13:31.691734Z",
     "start_time": "2019-04-23T20:13:31.656687Z"
    }
   },
   "outputs": [],
   "source": [
    "def predict_textCNN(sentence):\n",
    "    sentence_ = re.sub(\"[^a-zA-Z]\", \" \",sentence)\n",
    "    sentence_new = sentence_.split()\n",
    "    sentence_new = nd.array(vocab.to_indices(sentence_new), ctx=d2l.try_gpu())\n",
    "    label = nd.argmax(net(sentence_new.reshape((1, -1))), axis=1)\n",
    "    return '1' if label.asscalar() == 1 else '0'\n"
   ]
  },
  {
   "cell_type": "code",
   "execution_count": null,
   "metadata": {},
   "outputs": [],
   "source": []
  }
 ],
 "metadata": {
  "kernelspec": {
   "display_name": "Python 3",
   "language": "python",
   "name": "python3"
  },
  "language_info": {
   "codemirror_mode": {
    "name": "ipython",
    "version": 3
   },
   "file_extension": ".py",
   "mimetype": "text/x-python",
   "name": "python",
   "nbconvert_exporter": "python",
   "pygments_lexer": "ipython3",
   "version": "3.6.5"
  }
 },
 "nbformat": 4,
 "nbformat_minor": 2
}
