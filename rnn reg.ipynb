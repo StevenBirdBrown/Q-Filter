{
 "cells": [
  {
   "cell_type": "markdown",
   "metadata": {},
   "source": [
    "#  Homework 9 - Berkeley STAT 157\n",
    "\n",
    "**Your name: XX, SID YY, teammates A,B,C** (Please add your name, SID and teammates to ease Ryan and Rachel to grade.)\n",
    "\n",
    "**Please submit your homework through [gradescope](http://gradescope.com/)**\n",
    "\n",
    "Handout 4/18/2019, due 4/25/2019 by 4pm.\n",
    "\n",
    "This homework deals with sequence models for numbers. It builds on Homework 8 in terms of modeling. The main difference to last week is that we're modeling *real valued numbers* of stocks rather than characters. \n",
    "\n",
    "**This is teamwork.**"
   ]
  },
  {
   "cell_type": "code",
   "execution_count": 1,
   "metadata": {},
   "outputs": [],
   "source": [
    "import d2l\n",
    "import math\n",
    "import mxnet as mx\n",
    "from mxnet import autograd, gluon, init, nd\n",
    "from mxnet.gluon import loss as gloss, nn, rnn\n",
    "from mxnet.gluon import data as gdata\n",
    "import time\n",
    "import pandas as pd\n",
    "import matplotlib.pyplot as plt\n",
    "import seaborn as sns\n",
    "import numpy as np\n",
    "from scipy.stats import norm\n",
    "from sklearn.preprocessing import StandardScaler\n",
    "from scipy import stats\n",
    "import warnings\n",
    "warnings.filterwarnings('ignore')\n",
    "%matplotlib inline"
   ]
  },
  {
   "cell_type": "markdown",
   "metadata": {},
   "source": [
    "## 1. Time Series Model\n",
    "\n",
    "The goal is to develop multivariate regression models where the numbers are *nonnegative* and where changes are *relative*. That is, a stock price can never assume negative values and for convenience we assume that the companies listed do not go bankrupt, i.e. their stock price will never be zero. Moreover, we assume that we can ignore quantization of prices, i.e. the fact that stocks aren't traded at arbitrary prices in $\\mathbb{R}$ but only at fractions of a cent (see [this link for a backstory](https://www.investopedia.com/ask/answers/why-nyse-switch-fractions-to-decimals/)). \n",
    "\n",
    "The prices $x_{st}$ for a security $s$ at time $t$ typically reported at a given date are `(open, high, low, close, volume)`. Here `open` denotes the price when the market opens, `high` the highest price that it was traded for during that day, `low` the lowest, and `close` is the price of the security at closing. Lastly `volume` is an indicator for how many units were sold at that day. We index the respective values with $x_{st} = (o, h, l, c, v) \\in \\mathbb{R}^{5}$. To process them we transform $x_{st}$ as follows:\n",
    "\n",
    "$$z_{st} := \\left(\\log o, 10 \\cdot (\\log h - \\log o), 100 \\cdot (\\log l - \\log o), \\log c, \\log v\\right)$$\n",
    "\n",
    "Moreover, we assume that $z_{st}$ is obtained as part of a regression problem with squared loss, i.e.\\ for an estimate $\\hat{z}_{st}$ we compute the loss as \n",
    "\n",
    "$$l(z_{st}, \\hat{z}_{st}) = \\frac{1}{2} \\|z_{st} - \\hat{z}_{st}\\|^2$$\n",
    "\n",
    "1. Why is converting values into logarithms (and logarithms of ratios) a good idea? Explain this for each variable.\n",
    "1. Why would we want to rescale the ratios by 10?\n",
    "1. Explain why this model assumes a *lognormal* distribution of prediction errors between the values of the securities ${z}_{st}$ and their estimates $\\hat{z}_{st}$. That is, rather than being drawn from a Gaussian, they're drawn from another distribution. Characterize it (hint - exploit the connection between squared loss and the normal distribution).\n",
    "1. Now assume that we have not just one security but the top 500 stocks over some period of time. Why might it make \n",
    "   sense to estimate the share prices jointly? "
   ]
  },
  {
   "cell_type": "markdown",
   "metadata": {},
   "source": [
    "## Solution"
   ]
  },
  {
   "cell_type": "markdown",
   "metadata": {},
   "source": [
    "* Problem 1: Why log    \n",
    "Generally speaking, log-scale informs on relative changes (multiplicative), while linear-scale informs on absolute changes (additive). And we care about the relative change in the analysis of this question.\n",
    "    1. $\\log(o)$: From the distribution of the price when market opens of the five years, we could tell that the distribution is not normal. Therefore, logrithm    \n",
    "    2. $\\log(h) - \\log(o)$: The form is to capture the proportional change of highest price for that day with respect to the \n",
    "    3.    \n",
    "     \n",
    "        \n",
    "        \n",
    "* Problem 2: Why would we want to rescale the ratios by 10?"
   ]
  },
  {
   "cell_type": "code",
   "execution_count": 17,
   "metadata": {},
   "outputs": [
    {
     "data": {
      "text/html": [
       "<div>\n",
       "<style scoped>\n",
       "    .dataframe tbody tr th:only-of-type {\n",
       "        vertical-align: middle;\n",
       "    }\n",
       "\n",
       "    .dataframe tbody tr th {\n",
       "        vertical-align: top;\n",
       "    }\n",
       "\n",
       "    .dataframe thead th {\n",
       "        text-align: right;\n",
       "    }\n",
       "</style>\n",
       "<table border=\"1\" class=\"dataframe\">\n",
       "  <thead>\n",
       "    <tr style=\"text-align: right;\">\n",
       "      <th></th>\n",
       "      <th>open</th>\n",
       "      <th>high</th>\n",
       "      <th>low</th>\n",
       "      <th>close</th>\n",
       "      <th>volume</th>\n",
       "    </tr>\n",
       "  </thead>\n",
       "  <tbody>\n",
       "    <tr>\n",
       "      <th>count</th>\n",
       "      <td>619029.000000</td>\n",
       "      <td>619032.000000</td>\n",
       "      <td>619032.000000</td>\n",
       "      <td>619040.000000</td>\n",
       "      <td>6.190400e+05</td>\n",
       "    </tr>\n",
       "    <tr>\n",
       "      <th>mean</th>\n",
       "      <td>83.023334</td>\n",
       "      <td>83.778311</td>\n",
       "      <td>82.256096</td>\n",
       "      <td>83.043763</td>\n",
       "      <td>4.321823e+06</td>\n",
       "    </tr>\n",
       "    <tr>\n",
       "      <th>std</th>\n",
       "      <td>97.378769</td>\n",
       "      <td>98.207519</td>\n",
       "      <td>96.507421</td>\n",
       "      <td>97.389748</td>\n",
       "      <td>8.693610e+06</td>\n",
       "    </tr>\n",
       "    <tr>\n",
       "      <th>min</th>\n",
       "      <td>1.620000</td>\n",
       "      <td>1.690000</td>\n",
       "      <td>1.500000</td>\n",
       "      <td>1.590000</td>\n",
       "      <td>0.000000e+00</td>\n",
       "    </tr>\n",
       "    <tr>\n",
       "      <th>25%</th>\n",
       "      <td>40.220000</td>\n",
       "      <td>40.620000</td>\n",
       "      <td>39.830000</td>\n",
       "      <td>40.245000</td>\n",
       "      <td>1.070320e+06</td>\n",
       "    </tr>\n",
       "    <tr>\n",
       "      <th>50%</th>\n",
       "      <td>62.590000</td>\n",
       "      <td>63.150000</td>\n",
       "      <td>62.020000</td>\n",
       "      <td>62.620000</td>\n",
       "      <td>2.082094e+06</td>\n",
       "    </tr>\n",
       "    <tr>\n",
       "      <th>75%</th>\n",
       "      <td>94.370000</td>\n",
       "      <td>95.180000</td>\n",
       "      <td>93.540000</td>\n",
       "      <td>94.410000</td>\n",
       "      <td>4.284509e+06</td>\n",
       "    </tr>\n",
       "    <tr>\n",
       "      <th>max</th>\n",
       "      <td>2044.000000</td>\n",
       "      <td>2067.990000</td>\n",
       "      <td>2035.110000</td>\n",
       "      <td>2049.000000</td>\n",
       "      <td>6.182376e+08</td>\n",
       "    </tr>\n",
       "  </tbody>\n",
       "</table>\n",
       "</div>"
      ],
      "text/plain": [
       "                open           high            low          close  \\\n",
       "count  619029.000000  619032.000000  619032.000000  619040.000000   \n",
       "mean       83.023334      83.778311      82.256096      83.043763   \n",
       "std        97.378769      98.207519      96.507421      97.389748   \n",
       "min         1.620000       1.690000       1.500000       1.590000   \n",
       "25%        40.220000      40.620000      39.830000      40.245000   \n",
       "50%        62.590000      63.150000      62.020000      62.620000   \n",
       "75%        94.370000      95.180000      93.540000      94.410000   \n",
       "max      2044.000000    2067.990000    2035.110000    2049.000000   \n",
       "\n",
       "             volume  \n",
       "count  6.190400e+05  \n",
       "mean   4.321823e+06  \n",
       "std    8.693610e+06  \n",
       "min    0.000000e+00  \n",
       "25%    1.070320e+06  \n",
       "50%    2.082094e+06  \n",
       "75%    4.284509e+06  \n",
       "max    6.182376e+08  "
      ]
     },
     "execution_count": 17,
     "metadata": {},
     "output_type": "execute_result"
    }
   ],
   "source": [
    "df = pd.read_csv('all_stocks_5yr.csv')\n",
    "df.describe()"
   ]
  },
  {
   "cell_type": "markdown",
   "metadata": {},
   "source": [
    "### Example of Logrithm"
   ]
  },
  {
   "cell_type": "code",
   "execution_count": 18,
   "metadata": {},
   "outputs": [
    {
     "data": {
      "image/png": "[encoded data removed]",
      "text/plain": [
       "<Figure size 1080x216 with 5 Axes>"
      ]
     },
     "metadata": {
      "needs_background": "light"
     },
     "output_type": "display_data"
    }
   ],
   "source": [
    "df1 = df.copy()\n",
    "quantitative = [f for f in df1.columns[1:6]]\n",
    "f = pd.melt(df1, value_vars=quantitative)\n",
    "g = sns.FacetGrid(f, col=\"variable\",  col_wrap=5, sharex=False, sharey=False)\n",
    "g = g.map(sns.distplot, \"value\")\n",
    "plt.show()"
   ]
  },
  {
   "cell_type": "code",
   "execution_count": 19,
   "metadata": {},
   "outputs": [],
   "source": [
    "df2 = df1.copy()\n",
    "df2['open'] = np.log(df1['open'])\n",
    "df2['high'] = 10* (np.log(df1['high']) - np.log(df1['open']))\n",
    "df2['low'] = 10* (np.log(df1['low']) - np.log(df1['open']))\n",
    "df2['close'] = np.log(df1['close'])\n",
    "df2['volume'] = np.log(df1['volume'])"
   ]
  },
  {
   "cell_type": "code",
   "execution_count": 20,
   "metadata": {},
   "outputs": [
    {
     "data": {
      "image/png": "[encoded data removed]",
      "text/plain": [
       "<Figure size 1080x216 with 5 Axes>"
      ]
     },
     "metadata": {
      "needs_background": "light"
     },
     "output_type": "display_data"
    }
   ],
   "source": [
    "# with rescale 10\n",
    "quantitative = [f for f in df2.columns[1:6]]\n",
    "f = pd.melt(df1, value_vars=quantitative)\n",
    "g = sns.FacetGrid(f, col=\"variable\",  col_wrap=5, sharex=False, sharey=False)\n",
    "g = g.map(sns.distplot, \"value\")\n",
    "plt.show()"
   ]
  },
  {
   "cell_type": "code",
   "execution_count": 21,
   "metadata": {},
   "outputs": [
    {
     "ename": "OverflowError",
     "evalue": "cannot convert float infinity to integer",
     "output_type": "error",
     "traceback": [
      "\u001b[0;31m---------------------------------------------------------------------------\u001b[0m",
      "\u001b[0;31mOverflowError\u001b[0m                             Traceback (most recent call last)",
      "\u001b[0;32m<ipython-input-21-9d7473f879b9>\u001b[0m in \u001b[0;36m<module>\u001b[0;34m\u001b[0m\n\u001b[1;32m      3\u001b[0m \u001b[0mf\u001b[0m \u001b[0;34m=\u001b[0m \u001b[0mpd\u001b[0m\u001b[0;34m.\u001b[0m\u001b[0mmelt\u001b[0m\u001b[0;34m(\u001b[0m\u001b[0mdf2\u001b[0m\u001b[0;34m,\u001b[0m \u001b[0mvalue_vars\u001b[0m\u001b[0;34m=\u001b[0m\u001b[0mquantitative\u001b[0m\u001b[0;34m)\u001b[0m\u001b[0;34m\u001b[0m\u001b[0;34m\u001b[0m\u001b[0m\n\u001b[1;32m      4\u001b[0m \u001b[0mg\u001b[0m \u001b[0;34m=\u001b[0m \u001b[0msns\u001b[0m\u001b[0;34m.\u001b[0m\u001b[0mFacetGrid\u001b[0m\u001b[0;34m(\u001b[0m\u001b[0mf\u001b[0m\u001b[0;34m,\u001b[0m \u001b[0mcol\u001b[0m\u001b[0;34m=\u001b[0m\u001b[0;34m\"variable\"\u001b[0m\u001b[0;34m,\u001b[0m  \u001b[0mcol_wrap\u001b[0m\u001b[0;34m=\u001b[0m\u001b[0;36m5\u001b[0m\u001b[0;34m,\u001b[0m \u001b[0msharex\u001b[0m\u001b[0;34m=\u001b[0m\u001b[0;32mFalse\u001b[0m\u001b[0;34m,\u001b[0m \u001b[0msharey\u001b[0m\u001b[0;34m=\u001b[0m\u001b[0;32mFalse\u001b[0m\u001b[0;34m)\u001b[0m\u001b[0;34m\u001b[0m\u001b[0;34m\u001b[0m\u001b[0m\n\u001b[0;32m----> 5\u001b[0;31m \u001b[0mg\u001b[0m \u001b[0;34m=\u001b[0m \u001b[0mg\u001b[0m\u001b[0;34m.\u001b[0m\u001b[0mmap\u001b[0m\u001b[0;34m(\u001b[0m\u001b[0msns\u001b[0m\u001b[0;34m.\u001b[0m\u001b[0mdistplot\u001b[0m\u001b[0;34m,\u001b[0m \u001b[0;34m\"value\"\u001b[0m\u001b[0;34m)\u001b[0m\u001b[0;34m\u001b[0m\u001b[0;34m\u001b[0m\u001b[0m\n\u001b[0m\u001b[1;32m      6\u001b[0m \u001b[0mplt\u001b[0m\u001b[0;34m.\u001b[0m\u001b[0mshow\u001b[0m\u001b[0;34m(\u001b[0m\u001b[0;34m)\u001b[0m\u001b[0;34m\u001b[0m\u001b[0;34m\u001b[0m\u001b[0m\n",
      "\u001b[0;32m~/anaconda3/envs/stat/lib/python3.7/site-packages/seaborn/axisgrid.py\u001b[0m in \u001b[0;36mmap\u001b[0;34m(self, func, *args, **kwargs)\u001b[0m\n\u001b[1;32m    752\u001b[0m \u001b[0;34m\u001b[0m\u001b[0m\n\u001b[1;32m    753\u001b[0m             \u001b[0;31m# Draw the plot\u001b[0m\u001b[0;34m\u001b[0m\u001b[0;34m\u001b[0m\u001b[0;34m\u001b[0m\u001b[0m\n\u001b[0;32m--> 754\u001b[0;31m             \u001b[0mself\u001b[0m\u001b[0;34m.\u001b[0m\u001b[0m_facet_plot\u001b[0m\u001b[0;34m(\u001b[0m\u001b[0mfunc\u001b[0m\u001b[0;34m,\u001b[0m \u001b[0max\u001b[0m\u001b[0;34m,\u001b[0m \u001b[0mplot_args\u001b[0m\u001b[0;34m,\u001b[0m \u001b[0mkwargs\u001b[0m\u001b[0;34m)\u001b[0m\u001b[0;34m\u001b[0m\u001b[0;34m\u001b[0m\u001b[0m\n\u001b[0m\u001b[1;32m    755\u001b[0m \u001b[0;34m\u001b[0m\u001b[0m\n\u001b[1;32m    756\u001b[0m         \u001b[0;31m# Finalize the annotations and layout\u001b[0m\u001b[0;34m\u001b[0m\u001b[0;34m\u001b[0m\u001b[0;34m\u001b[0m\u001b[0m\n",
      "\u001b[0;32m~/anaconda3/envs/stat/lib/python3.7/site-packages/seaborn/axisgrid.py\u001b[0m in \u001b[0;36m_facet_plot\u001b[0;34m(self, func, ax, plot_args, plot_kwargs)\u001b[0m\n\u001b[1;32m    836\u001b[0m \u001b[0;34m\u001b[0m\u001b[0m\n\u001b[1;32m    837\u001b[0m         \u001b[0;31m# Draw the plot\u001b[0m\u001b[0;34m\u001b[0m\u001b[0;34m\u001b[0m\u001b[0;34m\u001b[0m\u001b[0m\n\u001b[0;32m--> 838\u001b[0;31m         \u001b[0mfunc\u001b[0m\u001b[0;34m(\u001b[0m\u001b[0;34m*\u001b[0m\u001b[0mplot_args\u001b[0m\u001b[0;34m,\u001b[0m \u001b[0;34m**\u001b[0m\u001b[0mplot_kwargs\u001b[0m\u001b[0;34m)\u001b[0m\u001b[0;34m\u001b[0m\u001b[0;34m\u001b[0m\u001b[0m\n\u001b[0m\u001b[1;32m    839\u001b[0m \u001b[0;34m\u001b[0m\u001b[0m\n\u001b[1;32m    840\u001b[0m         \u001b[0;31m# Sort out the supporting information\u001b[0m\u001b[0;34m\u001b[0m\u001b[0;34m\u001b[0m\u001b[0;34m\u001b[0m\u001b[0m\n",
      "\u001b[0;32m~/anaconda3/envs/stat/lib/python3.7/site-packages/seaborn/distributions.py\u001b[0m in \u001b[0;36mdistplot\u001b[0;34m(a, bins, hist, kde, rug, fit, hist_kws, kde_kws, rug_kws, fit_kws, color, vertical, norm_hist, axlabel, label, ax)\u001b[0m\n\u001b[1;32m    213\u001b[0m     \u001b[0;32mif\u001b[0m \u001b[0mhist\u001b[0m\u001b[0;34m:\u001b[0m\u001b[0;34m\u001b[0m\u001b[0;34m\u001b[0m\u001b[0m\n\u001b[1;32m    214\u001b[0m         \u001b[0;32mif\u001b[0m \u001b[0mbins\u001b[0m \u001b[0;32mis\u001b[0m \u001b[0;32mNone\u001b[0m\u001b[0;34m:\u001b[0m\u001b[0;34m\u001b[0m\u001b[0;34m\u001b[0m\u001b[0m\n\u001b[0;32m--> 215\u001b[0;31m             \u001b[0mbins\u001b[0m \u001b[0;34m=\u001b[0m \u001b[0mmin\u001b[0m\u001b[0;34m(\u001b[0m\u001b[0m_freedman_diaconis_bins\u001b[0m\u001b[0;34m(\u001b[0m\u001b[0ma\u001b[0m\u001b[0;34m)\u001b[0m\u001b[0;34m,\u001b[0m \u001b[0;36m50\u001b[0m\u001b[0;34m)\u001b[0m\u001b[0;34m\u001b[0m\u001b[0;34m\u001b[0m\u001b[0m\n\u001b[0m\u001b[1;32m    216\u001b[0m         \u001b[0mhist_kws\u001b[0m\u001b[0;34m.\u001b[0m\u001b[0msetdefault\u001b[0m\u001b[0;34m(\u001b[0m\u001b[0;34m\"alpha\"\u001b[0m\u001b[0;34m,\u001b[0m \u001b[0;36m0.4\u001b[0m\u001b[0;34m)\u001b[0m\u001b[0;34m\u001b[0m\u001b[0;34m\u001b[0m\u001b[0m\n\u001b[1;32m    217\u001b[0m         \u001b[0;32mif\u001b[0m \u001b[0mLooseVersion\u001b[0m\u001b[0;34m(\u001b[0m\u001b[0mmpl\u001b[0m\u001b[0;34m.\u001b[0m\u001b[0m__version__\u001b[0m\u001b[0;34m)\u001b[0m \u001b[0;34m<\u001b[0m \u001b[0mLooseVersion\u001b[0m\u001b[0;34m(\u001b[0m\u001b[0;34m\"2.2\"\u001b[0m\u001b[0;34m)\u001b[0m\u001b[0;34m:\u001b[0m\u001b[0;34m\u001b[0m\u001b[0;34m\u001b[0m\u001b[0m\n",
      "\u001b[0;32m~/anaconda3/envs/stat/lib/python3.7/site-packages/seaborn/distributions.py\u001b[0m in \u001b[0;36m_freedman_diaconis_bins\u001b[0;34m(a)\u001b[0m\n\u001b[1;32m     37\u001b[0m         \u001b[0;32mreturn\u001b[0m \u001b[0mint\u001b[0m\u001b[0;34m(\u001b[0m\u001b[0mnp\u001b[0m\u001b[0;34m.\u001b[0m\u001b[0msqrt\u001b[0m\u001b[0;34m(\u001b[0m\u001b[0ma\u001b[0m\u001b[0;34m.\u001b[0m\u001b[0msize\u001b[0m\u001b[0;34m)\u001b[0m\u001b[0;34m)\u001b[0m\u001b[0;34m\u001b[0m\u001b[0;34m\u001b[0m\u001b[0m\n\u001b[1;32m     38\u001b[0m     \u001b[0;32melse\u001b[0m\u001b[0;34m:\u001b[0m\u001b[0;34m\u001b[0m\u001b[0;34m\u001b[0m\u001b[0m\n\u001b[0;32m---> 39\u001b[0;31m         \u001b[0;32mreturn\u001b[0m \u001b[0mint\u001b[0m\u001b[0;34m(\u001b[0m\u001b[0mnp\u001b[0m\u001b[0;34m.\u001b[0m\u001b[0mceil\u001b[0m\u001b[0;34m(\u001b[0m\u001b[0;34m(\u001b[0m\u001b[0ma\u001b[0m\u001b[0;34m.\u001b[0m\u001b[0mmax\u001b[0m\u001b[0;34m(\u001b[0m\u001b[0;34m)\u001b[0m \u001b[0;34m-\u001b[0m \u001b[0ma\u001b[0m\u001b[0;34m.\u001b[0m\u001b[0mmin\u001b[0m\u001b[0;34m(\u001b[0m\u001b[0;34m)\u001b[0m\u001b[0;34m)\u001b[0m \u001b[0;34m/\u001b[0m \u001b[0mh\u001b[0m\u001b[0;34m)\u001b[0m\u001b[0;34m)\u001b[0m\u001b[0;34m\u001b[0m\u001b[0;34m\u001b[0m\u001b[0m\n\u001b[0m\u001b[1;32m     40\u001b[0m \u001b[0;34m\u001b[0m\u001b[0m\n\u001b[1;32m     41\u001b[0m \u001b[0;34m\u001b[0m\u001b[0m\n",
      "\u001b[0;31mOverflowError\u001b[0m: cannot convert float infinity to integer"
     ]
    },
    {
     "data": {
      "image/png": "[encoded data removed]",
      "text/plain": [
       "<Figure size 1080x216 with 5 Axes>"
      ]
     },
     "metadata": {
      "needs_background": "light"
     },
     "output_type": "display_data"
    }
   ],
   "source": [
    "#without rescale\n",
    "quantitative = [f for f in df2.columns[1:6]]\n",
    "f = pd.melt(df2, value_vars=quantitative)\n",
    "g = sns.FacetGrid(f, col=\"variable\",  col_wrap=5, sharex=False, sharey=False)\n",
    "g = g.map(sns.distplot, \"value\")\n",
    "plt.show()"
   ]
  },
  {
   "cell_type": "markdown",
   "metadata": {},
   "source": [
    "## 2. Load Data\n",
    "\n",
    "1. Obtain data from the S&P500 for the past 5 years and convert it into a time series. You can get the data either from Kaggle [www.kaggle.com/camnugent/sandp500](https://www.kaggle.com/camnugent/sandp500) or crawl it directly using the Python script given here: [github.com/CNuge/kaggle-code/blob/master/stock_data/getSandP.py](https://github.com/CNuge/kaggle-code/blob/master/stock_data/getSandP.py). Your dataset will contain tuples of the form \n",
    "`(date, open, high, low, close, volume, Name)`. \n",
    "1. Import this data into an NDArray dataset where you have a vector containing `(open, high, low, close, volume)` for each security. That is, this is a 2,500 dimensional vector and you have 5 years' worth of data. \n",
    "1. Preprocess the data into logarithmic representation as outlined in problem 1.\n",
    "1. Split the data into observations for the first 4 years and a dataset for the last year. \n",
    "1. Load data into an MXNet dataset iterator.\n",
    "1. Why do you need to do this as opposed to splitting into random segments?"
   ]
  },
  {
   "cell_type": "code",
   "execution_count": 24,
   "metadata": {},
   "outputs": [],
   "source": [
    "df1 = df.ffill().copy()"
   ]
  },
  {
   "cell_type": "code",
   "execution_count": 25,
   "metadata": {},
   "outputs": [
    {
     "data": {
      "text/html": [
       "<div>\n",
       "<style scoped>\n",
       "    .dataframe tbody tr th:only-of-type {\n",
       "        vertical-align: middle;\n",
       "    }\n",
       "\n",
       "    .dataframe tbody tr th {\n",
       "        vertical-align: top;\n",
       "    }\n",
       "\n",
       "    .dataframe thead th {\n",
       "        text-align: right;\n",
       "    }\n",
       "</style>\n",
       "<table border=\"1\" class=\"dataframe\">\n",
       "  <thead>\n",
       "    <tr style=\"text-align: right;\">\n",
       "      <th></th>\n",
       "      <th>date</th>\n",
       "      <th>open</th>\n",
       "      <th>high</th>\n",
       "      <th>low</th>\n",
       "      <th>close</th>\n",
       "      <th>volume</th>\n",
       "      <th>Name</th>\n",
       "      <th>year</th>\n",
       "    </tr>\n",
       "  </thead>\n",
       "  <tbody>\n",
       "    <tr>\n",
       "      <th>0</th>\n",
       "      <td>2013-02-08</td>\n",
       "      <td>2.712706</td>\n",
       "      <td>17.180717</td>\n",
       "      <td>16.851275</td>\n",
       "      <td>2.691243</td>\n",
       "      <td>15.944635</td>\n",
       "      <td>AAL</td>\n",
       "      <td>2013</td>\n",
       "    </tr>\n",
       "    <tr>\n",
       "      <th>1</th>\n",
       "      <td>2013-02-11</td>\n",
       "      <td>2.700690</td>\n",
       "      <td>17.152094</td>\n",
       "      <td>16.639512</td>\n",
       "      <td>2.671386</td>\n",
       "      <td>15.999537</td>\n",
       "      <td>AAL</td>\n",
       "      <td>2013</td>\n",
       "    </tr>\n",
       "    <tr>\n",
       "      <th>2</th>\n",
       "      <td>2013-02-12</td>\n",
       "      <td>2.670694</td>\n",
       "      <td>16.924995</td>\n",
       "      <td>16.638363</td>\n",
       "      <td>2.658159</td>\n",
       "      <td>15.910579</td>\n",
       "      <td>AAL</td>\n",
       "      <td>2013</td>\n",
       "    </tr>\n",
       "    <tr>\n",
       "      <th>3</th>\n",
       "      <td>2013-02-13</td>\n",
       "      <td>2.660260</td>\n",
       "      <td>17.256185</td>\n",
       "      <td>16.783332</td>\n",
       "      <td>2.685123</td>\n",
       "      <td>16.143715</td>\n",
       "      <td>AAL</td>\n",
       "      <td>2013</td>\n",
       "    </tr>\n",
       "    <tr>\n",
       "      <th>4</th>\n",
       "      <td>2013-02-14</td>\n",
       "      <td>2.704042</td>\n",
       "      <td>17.106322</td>\n",
       "      <td>15.824342</td>\n",
       "      <td>2.638343</td>\n",
       "      <td>17.277486</td>\n",
       "      <td>AAL</td>\n",
       "      <td>2013</td>\n",
       "    </tr>\n",
       "  </tbody>\n",
       "</table>\n",
       "</div>"
      ],
      "text/plain": [
       "        date      open       high        low     close     volume Name  year\n",
       "0 2013-02-08  2.712706  17.180717  16.851275  2.691243  15.944635  AAL  2013\n",
       "1 2013-02-11  2.700690  17.152094  16.639512  2.671386  15.999537  AAL  2013\n",
       "2 2013-02-12  2.670694  16.924995  16.638363  2.658159  15.910579  AAL  2013\n",
       "3 2013-02-13  2.660260  17.256185  16.783332  2.685123  16.143715  AAL  2013\n",
       "4 2013-02-14  2.704042  17.106322  15.824342  2.638343  17.277486  AAL  2013"
      ]
     },
     "execution_count": 25,
     "metadata": {},
     "output_type": "execute_result"
    }
   ],
   "source": [
    "df1['open'] = np.log(df1['open'])\n",
    "df1['high'] = 10* (np.log(df1['high']) - np.log(df1['open']))\n",
    "df1['low'] = 10* (np.log(df1['low']) - np.log(df1['open']))\n",
    "df1['close'] = np.log(df1['close'])\n",
    "df1['volume'] = np.log(df1['volume'])\n",
    "df1.loc[:, 'date'] = pd.to_datetime(df1.loc[:,'date'], format=\"%Y/%m/%d\")\n",
    "df1['year'] = pd.DatetimeIndex(df1['date']).year\n",
    "df1.head()"
   ]
  },
  {
   "cell_type": "code",
   "execution_count": 26,
   "metadata": {},
   "outputs": [],
   "source": [
    "df2 = df1[df1['year'] == 2018]\n",
    "df2.to_csv (r'test.csv', index = None, header=True)\n",
    "df3 = df1[df1['year'] != 2018]\n",
    "df3.to_csv (r'train.csv', index = None, header=True)"
   ]
  },
  {
   "cell_type": "markdown",
   "metadata": {},
   "source": [
    "#### Generate Train Feature Matrix"
   ]
  },
  {
   "cell_type": "markdown",
   "metadata": {},
   "source": [
    "def create_feature(df3):    \n",
    "    grouped = df3.groupby('date')\n",
    "    i = 0\n",
    "    price = nd.zeros((2525, len(grouped)))\n",
    "\n",
    "    for date, group in grouped:\n",
    "        rec = grouped.get_group(date).reset_index(drop = True)\n",
    "        a = rec.iloc[:,1:6].values.flatten()\n",
    "        price[:len(a),i] = a\n",
    "        i+=1\n",
    "    return price\n",
    "\n",
    "test_feature = create_feature(df2) #test\n",
    "train_feature = create_feature(df3) #train\n",
    "\n",
    "print('train feature matrix: \\n',train_feature)\n",
    "print('test feature matrix: \\n',test_feature)"
   ]
  },
  {
   "cell_type": "code",
   "execution_count": 27,
   "metadata": {},
   "outputs": [],
   "source": [
    "name = list(np.unique(df3[df3['year'] == 2017].Name))"
   ]
  },
  {
   "cell_type": "code",
   "execution_count": 28,
   "metadata": {},
   "outputs": [
    {
     "name": "stdout",
     "output_type": "stream",
     "text": [
      "test feature matrix: \n",
      " \n",
      "[[ 4.210942   4.213904   4.2419024 ...  4.260706   4.2040954  4.222298 ]\n",
      " [27.802025  28.027933  28.009087  ... 28.199827  27.955805  27.949581 ]\n",
      " [27.72068   27.752186  27.859013  ... 27.727163  27.555634  27.777302 ]\n",
      " ...\n",
      " [28.142883  28.150318  28.246767  ... 28.252508  28.229082  28.307703 ]\n",
      " [ 4.2734666  4.278054   4.2840004 ...  4.301765   4.2941513  4.302171 ]\n",
      " [14.574242  14.660737  14.745314  ... 14.901385  15.409698  15.327316 ]]\n",
      "<NDArray 2525x26 @cpu(0)>\n",
      "train feature matrix: \n",
      " \n",
      "[[ 3.8082168  3.8104331  3.8024313 ...  4.207822   4.2112384  4.2121277]\n",
      " [24.772491  24.729116  24.6991    ... 27.745897  27.740746  27.753443 ]\n",
      " [24.695015  24.566221  24.598486  ... 27.699837  27.672344  27.656794 ]\n",
      " ...\n",
      " [22.293644  22.405806  22.458382  ... 28.25052   28.238503  28.2227   ]\n",
      " [ 3.4980216  3.5043554  3.5186841 ...  4.2828965  4.2820683  4.2772217]\n",
      " [14.770726  14.211676  14.308546  ... 13.963733  13.473722  14.34856  ]]\n",
      "<NDArray 2525x1233 @cpu(0)>\n"
     ]
    }
   ],
   "source": [
    "def create_feature(df3):\n",
    "    \n",
    "    grouped = df3.groupby('date')\n",
    "    i = 0\n",
    "    price = nd.zeros((2525, len(grouped)))\n",
    "    \n",
    "    for date, group in grouped:\n",
    "        rec = grouped.get_group(date).reset_index(drop = True)\n",
    "        price_date = np.zeros((505,5))\n",
    "        for a in range(len(name)):\n",
    "            if len(rec[rec['Name'] == name[a]]) > 0:\n",
    "                price_date[a] = rec[rec['Name'] == name[a]].iloc[:,1:6].values\n",
    "            '''\n",
    "            else:\n",
    "                print('here == 0: ', name[a])\n",
    "                unnamed.append(name[a])\n",
    "            '''    \n",
    "        price[:,i] = price_date.flatten()\n",
    "        i+=1\n",
    "    return price\n",
    "\n",
    "test_feature = create_feature(df2) #test\n",
    "print('test feature matrix: \\n',test_feature)\n",
    "\n",
    "train_feature = create_feature(df3) #train\n",
    "print('train feature matrix: \\n',train_feature)"
   ]
  },
  {
   "cell_type": "code",
   "execution_count": 29,
   "metadata": {},
   "outputs": [],
   "source": [
    "train_feature2 = train_feature\n",
    "for i in range(2525):\n",
    "    if train_feature2[i].min() == 0:\n",
    "        max_index = np.nonzero(train_feature2[i])[0].max()\n",
    "        min_index = np.nonzero(train_feature2[i])[0].min()\n",
    "        if max_index == 1232:\n",
    "            #print(train_feature2[i])\n",
    "            train_feature2[i,:min_index+1] = train_feature2[i,min_index+1]\n",
    "            #print(train_feature2[i])\n",
    "        elif min_index == 0:\n",
    "            train_feature2[i,:max_index+1:] = train_feature2[i,max_index]"
   ]
  },
  {
   "cell_type": "code",
   "execution_count": 30,
   "metadata": {},
   "outputs": [
    {
     "data": {
      "text/plain": [
       "\n",
       "[25.329958 25.329958 25.329958 25.329958 25.329958 25.329958 25.329958\n",
       " 25.329958 25.329958 25.329958 25.329958 25.329958 25.329958 25.329958\n",
       " 25.329958 25.329958 25.329958 25.329958 25.329958 25.329958 25.329958\n",
       " 25.329958 25.329958 25.329958 25.329958 25.329958 25.329958 25.329958\n",
       " 25.329958 25.329958 25.329958 25.329958 25.329958 25.329958 25.329958\n",
       " 25.329958 25.329958 25.329958 25.329958 25.329958 25.329958 25.329958\n",
       " 25.329958 25.329958 25.329958 25.329958 25.329958 25.329958 25.329958\n",
       " 25.329958 25.329958 25.329958 25.329958 25.329958 25.329958 25.329958\n",
       " 25.329958 25.329958 25.329958 25.329958 25.329958 25.329958 25.329958\n",
       " 25.329958 25.329958 25.329958 25.329958 25.329958 25.329958 25.329958\n",
       " 25.329958 25.329958 25.329958 25.329958 25.329958 25.329958 25.329958\n",
       " 25.329958 25.329958 25.329958 25.329958 25.329958 25.329958 25.329958\n",
       " 25.329958 25.329958 25.329958 25.329958 25.329958 25.329958 25.329958\n",
       " 25.329958 25.329958 25.329958 25.329958 25.329958 25.329958 25.329958\n",
       " 24.86245  24.76177 ]\n",
       "<NDArray 100 @cpu(0)>"
      ]
     },
     "execution_count": 30,
     "metadata": {},
     "output_type": "execute_result"
    }
   ],
   "source": [
    "train_feature2[146, 100:200]"
   ]
  },
  {
   "cell_type": "code",
   "execution_count": 31,
   "metadata": {},
   "outputs": [
    {
     "name": "stdout",
     "output_type": "stream",
     "text": [
      "2018:  26\n",
      "2017:  251\n",
      "2016:  252\n",
      "2015:  252\n",
      "2014:  252\n",
      "2013:  226\n"
     ]
    }
   ],
   "source": [
    "date18 = len(np.unique(df2.date))\n",
    "print('2018: ',date18)\n",
    "date17 = len(np.unique(df3[df3['year'] == 2017].date))\n",
    "print('2017: ',date17)\n",
    "date16 = len(np.unique(df3[df3['year'] == 2016].date))\n",
    "print('2016: ',date16)\n",
    "date15 = len(np.unique(df3[df3['year'] == 2015].date))\n",
    "print('2015: ',date15)\n",
    "date14 = len(np.unique(df3[df3['year'] == 2014].date))\n",
    "print('2014: ',date14)\n",
    "date13 = len(np.unique(df3[df3['year'] == 2013].date))\n",
    "print('2013: ',date13)"
   ]
  },
  {
   "cell_type": "markdown",
   "metadata": {},
   "source": [
    "#### Data Loader and Iterator  \n",
    "* Why not randomly splitting?    \n",
    "Answer: Because they are relevant with respect to time. "
   ]
  },
  {
   "cell_type": "code",
   "execution_count": 32,
   "metadata": {},
   "outputs": [],
   "source": [
    "train_data = gdata.dataset.ArrayDataset(train_feature)\n",
    "train_iter = gdata.DataLoader(train_data, batch_size = 64, shuffle = True)\n",
    "test_data = gdata.dataset.ArrayDataset(test_feature)\n",
    "test_iter = gdata.DataLoader(test_data, batch_size = 64, shuffle = True)"
   ]
  },
  {
   "cell_type": "markdown",
   "metadata": {},
   "source": [
    "## 3. Time Series Implementation\n",
    "\n",
    "1. Implement a model similar to `RNNModel` of section [d2l.ai/chapter_recurrent-neural-networks/rnn-gluon.html](http://en.d2l.ai/chapter_recurrent-neural-networks/rnn-gluon.html) suitable for regression. It should take as input vector-valued data, such as the time series mentioned above and it should output vector-valued data (of some other dimensionality).\n",
    "1. Train the model on the first 4 years of data using plain RNN, GRU and LSTM cells (for a single layer). How well can the model \n",
    "    * Predict the stock value the next day on the last 1 year of data (price at opening).\n",
    "    * Plot how the quality of the model degrades as we apply it throughout the year (i.e. we ingest all the data up to day $t$ and predict forward at day $t+1$). \n",
    "    * Predict the stock value the next week on the last 1 year of data (price at opening).\n",
    "1. Train the model on each stock separately (with much lower dimensionality) and compare the performance of the above model with the one you get by using each stock separately. \n",
    "1. Improve the model using better features, e.g. the fact that time is not uniformly spaced (Saturday, Sunday and holidays do not see any trades). For that use the day of the week as an additional input feature. \n",
    "1. Improve the model further by using a deeper RNN, e.g. with 2 layers. \n",
    "\n",
    "Note, there are many cases where we might want to know the *sequence* of stock prices over a period of time rather than just knowing the value, say one month from now. This is relevant e.g. for options pricing where investors can bet on or bet against volatility of a stock price. For a detailed description of this see e.g. [en.wikipedia.org/wiki/Options_strategy](https://en.wikipedia.org/wiki/Options_strategy)."
   ]
  },
  {
   "cell_type": "code",
   "execution_count": 2,
   "metadata": {},
   "outputs": [],
   "source": [
    "import sys\n",
    "sys.path.insert(0, '..')\n",
    "import math\n",
    "import time\n",
    "ctx = mx.gpu(0)"
   ]
  },
  {
   "cell_type": "code",
   "execution_count": 3,
   "metadata": {},
   "outputs": [],
   "source": [
    "num_hiddens = 256\n",
    "rnn_layer = rnn.RNN(num_hiddens)\n",
    "rnn_layer.initialize(ctx=ctx)"
   ]
  },
  {
   "cell_type": "code",
   "execution_count": 4,
   "metadata": {},
   "outputs": [],
   "source": [
    "class RNNReg(nn.Block):\n",
    "    def __init__(self, rnn_layer, out_size=2525, **kwargs):\n",
    "        super(RNNReg, self).__init__(**kwargs)\n",
    "        self.rnn = rnn_layer\n",
    "        self.out_size = out_size\n",
    "        self.dense = nn.Dense(out_size)\n",
    "\n",
    "    def forward(self, inputs, state):\n",
    "        # the shape is (batch_size, time_step_forward, sample_length)\n",
    "        X = inputs.reshape(1, inputs.shape[0], inputs.shape[1])\n",
    "        Y, state = self.rnn(X, state)\n",
    "        output = self.dense(Y.reshape((-1, Y.shape[-1])))\n",
    "        return output, state\n",
    "\n",
    "    def begin_state(self, *args, **kwargs):\n",
    "        return self.rnn.begin_state(*args, **kwargs)"
   ]
  },
  {
   "cell_type": "code",
   "execution_count": 43,
   "metadata": {},
   "outputs": [],
   "source": [
    "def predict_rnn_gluon(inputs, step_forward, model, ctx):\n",
    "    # inputs should be of dimension (days of that year)*2525\n",
    "    state = model.begin_state(batch_size=1, ctx=ctx)\n",
    "    output = [inputs[0]]\n",
    "    for t in range(len(inputs) + step_forward - 1):\n",
    "        X = nd.array(output[-1], ctx=ctx)\n",
    "        (Y, state) = model(X, state)\n",
    "        if t < len(inputs) - 1:\n",
    "            output.append(inputs[t+1])\n",
    "        else:\n",
    "            output.append(Y.reshape((-1, Y.shape[-1])))\n",
    "    return output"
   ]
  },
  {
   "cell_type": "code",
   "execution_count": 6,
   "metadata": {},
   "outputs": [],
   "source": [
    "def grad_clipping_gluon(model, theta, ctx):\n",
    "    params = [p.data() for p in model.collect_params().values()]\n",
    "    d2l.grad_clipping(params, theta, ctx)"
   ]
  },
  {
   "cell_type": "code",
   "execution_count": 48,
   "metadata": {},
   "outputs": [],
   "source": [
    "train_features = nd.ones((60, 2525), ctx=ctx)\n",
    "train_labels = nd.ones((60, 505), ctx=ctx)\n",
    "train_iter = gdata.DataLoader(gdata.ArrayDataset(train_features, train_labels), batch_size=20, shuffle=True)\n",
    "\n",
    "def train_and_predict_rnn_gluon(model, num_hiddens, data_iter, ctx, num_epochs,\\\n",
    "                                num_steps, lr, clipping_theta, batch_size):\n",
    "    loss = gloss.L2Loss()\n",
    "    model.initialize(ctx=ctx, force_reinit=True, init=init.Normal(0.01))\n",
    "    trainer = gluon.Trainer(model.collect_params(), 'sgd',\n",
    "                            {'learning_rate': lr, 'momentum': 0, 'wd': 0})\n",
    "    start = time.time()\n",
    "    for epoch in range(num_epochs):\n",
    "        state = model.begin_state(batch_size=batch_size, ctx=ctx)\n",
    "        for X, Y in data_iter:\n",
    "            for s in state:\n",
    "                s.detach()\n",
    "            with autograd.record():\n",
    "                (output, state) = model(X, state)\n",
    "                # print('output: ',output.shape)\n",
    "                y = Y.T.reshape((-1,))\n",
    "                # print('y: ',y.shape)\n",
    "                l = loss(output, y).mean()\n",
    "            l.backward()\n",
    "            # Clip the gradient\n",
    "            grad_clipping_gluon(model, clipping_theta, ctx)\n",
    "            # Since the error has already taken the mean, the gradient does\n",
    "            # not need to be averaged\n",
    "            trainer.step(1)\n",
    "        if (epoch + 1) % 10 == 0:\n",
    "            print('epoch: ', epoch+1, ', loss: ', l)"
   ]
  },
  {
   "cell_type": "code",
   "execution_count": 50,
   "metadata": {
    "scrolled": false
   },
   "outputs": [
    {
     "name": "stdout",
     "output_type": "stream",
     "text": [
      "epoch:  10 , loss:  \n",
      "[0.49065804]\n",
      "<NDArray 1 @gpu(0)>\n",
      "epoch:  20 , loss:  \n",
      "[0.48089924]\n",
      "<NDArray 1 @gpu(0)>\n",
      "epoch:  30 , loss:  \n",
      "[0.4702897]\n",
      "<NDArray 1 @gpu(0)>\n",
      "epoch:  40 , loss:  \n",
      "[0.45833936]\n",
      "<NDArray 1 @gpu(0)>\n",
      "epoch:  50 , loss:  \n",
      "[0.44495487]\n",
      "<NDArray 1 @gpu(0)>\n",
      "epoch:  60 , loss:  \n",
      "[0.4300889]\n",
      "<NDArray 1 @gpu(0)>\n",
      "epoch:  70 , loss:  \n",
      "[0.41377407]\n",
      "<NDArray 1 @gpu(0)>\n",
      "epoch:  80 , loss:  \n",
      "[0.39607638]\n",
      "<NDArray 1 @gpu(0)>\n",
      "epoch:  90 , loss:  \n",
      "[0.37707937]\n",
      "<NDArray 1 @gpu(0)>\n",
      "epoch:  100 , loss:  \n",
      "[0.35689172]\n",
      "<NDArray 1 @gpu(0)>\n",
      "epoch:  110 , loss:  \n",
      "[0.33563176]\n",
      "<NDArray 1 @gpu(0)>\n",
      "epoch:  120 , loss:  \n",
      "[0.31342965]\n",
      "<NDArray 1 @gpu(0)>\n",
      "epoch:  130 , loss:  \n",
      "[0.29042444]\n",
      "<NDArray 1 @gpu(0)>\n",
      "epoch:  140 , loss:  \n",
      "[0.26681]\n",
      "<NDArray 1 @gpu(0)>\n",
      "epoch:  150 , loss:  \n",
      "[0.2427665]\n",
      "<NDArray 1 @gpu(0)>\n",
      "epoch:  160 , loss:  \n",
      "[0.21849795]\n",
      "<NDArray 1 @gpu(0)>\n",
      "epoch:  170 , loss:  \n",
      "[0.19422735]\n",
      "<NDArray 1 @gpu(0)>\n",
      "epoch:  180 , loss:  \n",
      "[0.17018987]\n",
      "<NDArray 1 @gpu(0)>\n",
      "epoch:  190 , loss:  \n",
      "[0.14663915]\n",
      "<NDArray 1 @gpu(0)>\n",
      "epoch:  200 , loss:  \n",
      "[0.12384893]\n",
      "<NDArray 1 @gpu(0)>\n"
     ]
    }
   ],
   "source": [
    "num_steps = 30\n",
    "num_epochs, batch_size, lr, clipping_theta = 200, 20, .1, 1e-2\n",
    "\n",
    "single_rnn_model = RNNReg(rnn_layer, 505)\n",
    "single_rnn_model.initialize(force_reinit=True, ctx = ctx)\n",
    "\n",
    "train_and_predict_rnn_gluon(single_rnn_model, num_hiddens, train_iter, ctx, num_epochs,\\\n",
    "                            num_steps, lr, clipping_theta, batch_size)"
   ]
  },
  {
   "cell_type": "code",
   "execution_count": 51,
   "metadata": {
    "scrolled": false
   },
   "outputs": [
    {
     "name": "stdout",
     "output_type": "stream",
     "text": [
      "in else\n",
      "[\n",
      "[[1. 1. 1. ... 1. 1. 1.]]\n",
      "<NDArray 1x2525 @cpu(0)>, \n",
      "[[1. 1. 1. ... 1. 1. 1.]]\n",
      "<NDArray 1x2525 @cpu(0)>, \n",
      "[[1. 1. 1. ... 1. 1. 1.]]\n",
      "<NDArray 1x2525 @cpu(0)>, \n",
      "[[1. 1. 1. ... 1. 1. 1.]]\n",
      "<NDArray 1x2525 @cpu(0)>, \n",
      "[[1. 1. 1. ... 1. 1. 1.]]\n",
      "<NDArray 1x2525 @cpu(0)>, \n",
      "[[0.6448776  0.8260094  0.36703917 0.6408411  0.40905786 0.9603059\n",
      "  0.7287087  0.31725267 0.22165455 0.4204254  0.4064516  0.88609177\n",
      "  0.35514668 0.6700109  0.3416047  0.59792274 0.24366629 0.96499234\n",
      "  0.7915008  0.5774825  0.63221264 0.6853412  0.5294455  0.54364336\n",
      "  0.35573146 0.70988077 0.32426122 0.15591118 0.3458252  0.5433537\n",
      "  0.50311935 0.6320816  0.45485145 0.46675685 0.43470952 0.5478025\n",
      "  0.0211228  0.33742493 0.84145856 0.4675582  0.3451234  0.52831995\n",
      "  0.59689873 0.65314573 0.5655065  0.20461066 0.6885615  0.51990294\n",
      "  0.7078735  0.77320564 0.5018943  0.44297445 0.5237461  0.37322047\n",
      "  0.6525313  0.7884429  0.57498276 0.45180592 0.5660506  0.6763165\n",
      "  0.76742923 0.6096553  0.43551683 0.5623521  0.60802937 0.48643252\n",
      "  0.772087   0.6927064  0.7792793  0.22231205 0.79230046 0.84420466\n",
      "  0.6441499  0.5923756  0.5090591  0.44445357 0.93022287 0.68836176\n",
      "  0.21842556 0.20336865 0.5766515  0.27511454 0.7919433  0.5336937\n",
      "  0.6632051  0.6608047  0.7372411  0.54625964 0.341412   0.28163242\n",
      "  0.35386184 0.3283435  0.72380036 0.6818384  0.5950507  0.39605126\n",
      "  0.7921677  0.62073666 0.30674177 0.45675728 0.28396195 0.22803915\n",
      "  0.71664673 0.63945234 0.5095982  0.6616399  0.47309396 0.46070054\n",
      "  0.3745471  0.5334737  0.51441956 0.03695296 0.08693895 0.49463794\n",
      "  0.57349765 0.36281416 0.5572927  0.5374797  0.41308248 0.34451672\n",
      "  0.6696008  0.54321504 0.71274143 0.40910727 0.42361403 0.3656102\n",
      "  0.6149656  0.64372116 0.15851265 0.36888385 0.50592864 0.76032376\n",
      "  0.50212955 0.13624193 0.3478248  0.42077994 0.16480891 0.65969634\n",
      "  0.288878   0.5194011  0.07274218 0.39026618 0.42727745 0.37345368\n",
      "  0.83309984 0.7563186  0.46218213 0.12883176 0.49462342 0.3988914\n",
      "  0.4893038  0.70613736 0.7023137  0.5684977  0.2961541  0.5436616\n",
      "  0.6935638  0.49870855 0.7019112  0.44262052 0.6875146  0.8008042\n",
      "  0.488844   0.49788678 0.63470656 0.53458804 0.81735414 0.7096442\n",
      "  0.26614112 0.4527585  0.47328126 0.5677199  0.7779316  0.286326\n",
      "  0.6366155  0.59790266 0.6503004  0.6948272  0.330133   0.47683185\n",
      "  0.9486891  0.30378455 0.6730604  0.27132028 0.6168118  0.3004563\n",
      "  0.44884375 0.5889823  0.37991872 0.49387616 0.61163765 0.7541575\n",
      "  0.8911581  0.44245178 0.58236635 0.80027264 0.3393076  0.2480948\n",
      "  0.9310111  0.6081031  0.38446927 0.58577406 0.5156621  0.33072814\n",
      "  0.8023347  0.50520676 0.80762815 0.7259905  0.7929676  0.58540756\n",
      "  0.4540936  0.41259882 0.65002507 0.8058706  0.67858094 0.5384948\n",
      "  0.57327485 0.42544368 0.6118043  0.62460905 0.5052238  0.8160283\n",
      "  0.80882066 0.5529641  0.3726081  0.50462013 0.7505534  0.691833\n",
      "  0.62931883 0.69919676 0.43856254 0.50467575 0.31700504 0.51025045\n",
      "  0.5383674  0.60771996 0.49712822 0.45709294 0.8242727  0.3381159\n",
      "  0.42148194 0.3166806  0.10471834 0.89889216 0.2956229  0.4550848\n",
      "  0.7976927  0.83106124 0.4735547  0.34340742 0.59282964 0.46048814\n",
      "  0.540361   0.61995614 0.25824004 0.40337345 0.6829461  0.8528904\n",
      "  0.44991145 0.26060766 0.54212177 0.6251066  0.45924538 0.52122545\n",
      "  0.4970318  0.37302688 0.3065367  0.7247942  0.4591729  0.6778509\n",
      "  0.24000452 0.76174265 0.24928734 0.47859097 0.36719877 0.58204097\n",
      "  0.6412129  0.44755876 0.23532003 0.41964224 0.6869202  0.3953162\n",
      "  0.52715915 0.60503715 0.6359914  0.40341553 0.68262035 0.5708865\n",
      "  0.2924546  0.7581181  0.5867683  0.46601558 0.6142723  0.20309874\n",
      "  0.6004287  0.77189124 0.7269983  0.86240566 0.3718913  0.8026712\n",
      "  0.7746226  0.57643604 0.5136159  0.6099583  0.45269194 0.2914218\n",
      "  0.8813651  0.33557737 0.50467825 0.47371358 0.59923166 0.47733396\n",
      "  0.38158447 0.38537318 0.29367945 0.58018374 0.6397782  0.29823947\n",
      "  0.44879818 0.63069916 0.48896024 0.75052166 0.8145018  0.74713945\n",
      "  0.47594246 0.33272818 0.5538261  0.6259112  0.53145987 0.58449656\n",
      "  0.7067301  0.5334889  0.51480234 0.49005297 0.49997583 0.9940939\n",
      "  0.3722117  0.7550827  0.735029   0.513071   0.48610613 0.620678\n",
      "  0.50883526 0.44209644 0.7945694  0.5474233  0.78851247 0.64371777\n",
      "  0.67825043 0.53692746 0.6531424  0.35234648 0.6079464  0.87976944\n",
      "  0.34052205 0.4594837  0.61629874 0.601175   0.34777677 0.49972975\n",
      "  0.42348278 0.35171178 0.43615872 0.3857926  0.38277993 0.371832\n",
      "  0.61155176 0.65713376 0.36457905 0.47333452 0.38797396 0.5661878\n",
      "  0.5234808  0.5921199  0.71344185 0.7281444  0.45209566 0.66874397\n",
      "  0.4704143  0.83357996 0.6989276  0.54664826 0.78399634 0.32750878\n",
      "  0.70152074 0.39563304 0.59846073 0.07101184 0.56893283 0.8896329\n",
      "  0.44910598 0.4514692  0.87086236 0.6349524  0.6917612  0.620703\n",
      "  0.4382449  0.44971845 0.28828096 0.5672023  0.7474469  0.32283717\n",
      "  0.60375035 0.19838156 0.61173123 0.9513303  0.7216989  0.7687913\n",
      "  0.45320538 0.6445088  0.6889849  0.69440436 0.6592101  0.43607503\n",
      "  0.50132364 0.17658176 0.37015238 0.8625256  0.01092414 0.4591088\n",
      "  0.58491945 0.44550782 0.3833214  0.71131396 0.75175416 0.732692\n",
      "  0.5862823  0.58026254 0.85031044 0.45778987 0.4102752  0.4783169\n",
      "  0.20677285 0.6993398  0.29839668 0.46332377 0.47902372 0.5625399\n",
      "  0.58251375 0.82164013 0.58265275 0.70486623 0.65324205 0.68957126\n",
      "  0.39467886 0.5737011  0.32456604 0.5048678  0.51620215 0.31346697\n",
      "  0.48467162 0.6761483  0.5961403  0.5446933  1.0125983  0.84944826\n",
      "  0.54737943 0.33434352 0.5387841  0.4170759  0.2196653  0.4403531\n",
      "  0.6958237  0.34401497 0.74017084 0.5427524  0.38568592 0.63326883\n",
      "  0.64913774 0.75782794 0.67336905 0.7831062  0.6387597  0.44141603\n",
      "  0.6203457  0.5876592  0.45352352 0.4231007  0.56656027 0.6652897\n",
      "  0.22936928 0.60249734 0.47351018 0.514922   0.35636884 0.64359736\n",
      "  0.47363776 0.59400916 0.42579466 0.5603363  0.4629369  0.5472928\n",
      "  0.6129123  0.4713797  0.08916482 0.55723137 0.41036457 0.4971814\n",
      "  0.65806645 0.5771491  0.34431437 0.673164   0.64296895 0.8007451\n",
      "  0.6320912 ]]\n",
      "<NDArray 1x505 @gpu(0)>]\n"
     ]
    }
   ],
   "source": [
    "inputs = [nd.ones((1, 2525)) for _ in range(5)]\n",
    "predict = predict_rnn_gluon(inputs, 1, single_rnn_model, ctx)\n",
    "print(predict)"
   ]
  },
  {
   "cell_type": "code",
   "execution_count": null,
   "metadata": {},
   "outputs": [],
   "source": []
  }
 ],
 "metadata": {
  "kernelspec": {
   "display_name": "Python 3",
   "language": "python",
   "name": "python3"
  },
  "language_info": {
   "codemirror_mode": {
    "name": "ipython",
    "version": 3
   },
   "file_extension": ".py",
   "mimetype": "text/x-python",
   "name": "python",
   "nbconvert_exporter": "python",
   "pygments_lexer": "ipython3",
   "version": "3.7.3"
  },
  "toc": {
   "base_numbering": 1,
   "nav_menu": {},
   "number_sections": true,
   "sideBar": true,
   "skip_h1_title": false,
   "title_cell": "Table of Contents",
   "title_sidebar": "Contents",
   "toc_cell": false,
   "toc_position": {},
   "toc_section_display": true,
   "toc_window_display": false
  }
 },
 "nbformat": 4,
 "nbformat_minor": 2
}
